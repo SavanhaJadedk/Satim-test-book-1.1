{
 "cells": [
  {
   "cell_type": "markdown",
   "id": "3537bc67-4950-419b-85bd-7ce6ba793a26",
   "metadata": {},
   "source": [
    "Step-by-step instructions for creating a new project on GitHub:\n",
    "\n",
    "1. **Navigate to GitHub's Website:**\n",
    "   - Go to the GitHub website: https://github.com/.\n",
    "   -\n",
    "2. **Sign in to GitHub:**\n",
    "   - If you don't already have a GitHub account, you'll need to sign up for one at https://github.com/join.\n",
    "\n",
    "3. **Create a New Repository:**\n",
    "   - On the GitHub homepage, click on the \"+\" icon in the top right corner, then select \"New repository\" from the dropdown menu.\n",
    "\n",
    "4. **Fill in Repository Details:**\n",
    "   - No template\n",
    "   - Leave the default “Owner”, or change it to something better for a tutorial project.\n",
    "   - In the \"Repository name\" field, enter a name for your new project.\n",
    "   - Optionally, you can add a description for your project in the \"Description\" field.\n",
    "   - - Make sure the project is “Public”, rather than “Private”..\n",
    "   - You can also choose to initialize the repository with a README file, which is useful for providing initial documentation or instructions about your project.\n",
    "\n",
    "5. **Choose Repository Options:** LEAVE OUT\n",
    "   - Optionally, you can add a .gitignore file to specify which files and directories should be ignored by Git. This is useful for excluding files like temporary files or build artifacts from version control.\n",
    "   - You can also choose a license for your project. GitHub provides several common open-source licenses to choose from.\n",
    "\n",
    "6. **Create the Repository:**\n",
    "   - Once you've filled in the required details and chosen any optional settings, click the \"Create repository\" button to create your new project.\n",
    "\n",
    "7. **Copy Repository URL:** NO\n",
    "   - After creating the repository, you'll be taken to its homepage on GitHub. Copy the URL of the repository from the address bar of your web browser.\n",
    "\n",
    "Your new project repository is now created on GitHub, and you can start adding files, code, and documentation to it. You can also invite collaborators to work on the project with you by adding them as collaborators in the repository settings."
   ]
  },
  {
   "cell_type": "markdown",
   "id": "3a5cdb99-a22d-4532-82c4-9a4279c4c961",
   "metadata": {
    "editable": true,
    "slideshow": {
     "slide_type": ""
    },
    "tags": []
   },
   "source": [
    "To clone a GitHub repository into another repository locally, you can follow these steps:\n",
    "\n",
    "2. **Clone the JB-RTD Repository**:\n",
    "   Open your terminal or command prompt and navigate to the directory where you want to clone the existing repository. Then use the `git clone` command followed by the URL of the existing repository:\n"
   ]
  },
  {
   "cell_type": "markdown",
   "id": "882d30cd-711c-434f-a978-8cb3e3c4afed",
   "metadata": {},
   "source": [
    "   ```bash\n",
    "   git clone <https://github.com/readthedocs-examples/example-jupyter-book.git>\n",
    "   ```\n"
   ]
  },
  {
   "cell_type": "markdown",
   "id": "f62a4889-dfe5-413a-9438-6b5fcab52c19",
   "metadata": {},
   "source": [
    "This command will clone the existing repository into a directory with the same name as the repository.\n",
    "\n",
    "3. **Navigate into the Cloned Repository**:\n",
    "   Enter the directory of the cloned repository using the `cd` command:\n",
    "\n",
    "   ```bash\n",
    "   cd <cloned_repository_name>\n",
    "   ```\n",
    "\n",
    "4. **Set Up the New Repository as Remote**:\n",
    "   Add the URL of the new empty repository as a remote to the cloned repository:\n",
    "\n",
    "   ```bash\n",
    "   git remote add new-origin <new_repository_url>\n",
    "   ```\n",
    "\n",
    "   Replace `<new_repository_url>` with the URL of the new repository you created.\n",
    "\n",
    "5. **Push Changes to the New Repository**:\n",
    "   Push the contents of the cloned repository to the new repository:\n",
    "\n",
    "   ```bash\n",
    "   git push new-origin master\n",
    "   ```\n",
    "\n",
    "   This command pushes the `master` branch of the cloned repository to the new repository. If you're working with a different branch, replace `master` with the name of that branch.\n",
    "\n",
    "6. **Verify Changes**:\n",
    "   Go to the new repository on GitHub and verify that the files from the existing repository have been successfully cloned into it.\n",
    "\n",
    "Now you have successfully cloned the existing GitHub repository into another repository locally. You can continue working with the new repository as needed."
   ]
  }
 ],
 "metadata": {
  "kernelspec": {
   "display_name": "Python 3 (ipykernel)",
   "language": "python",
   "name": "python3"
  },
  "language_info": {
   "codemirror_mode": {
    "name": "ipython",
    "version": 3
   },
   "file_extension": ".py",
   "mimetype": "text/x-python",
   "name": "python",
   "nbconvert_exporter": "python",
   "pygments_lexer": "ipython3",
   "version": "3.11.5"
  }
 },
 "nbformat": 4,
 "nbformat_minor": 5
}

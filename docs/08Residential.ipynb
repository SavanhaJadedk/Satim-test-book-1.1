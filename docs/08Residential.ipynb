{
 "cells": [
  {
   "cell_type": "markdown",
   "id": "543f5f2c-7d7c-4201-ab70-60c43866fee8",
   "metadata": {
    "editable": true,
    "slideshow": {
     "slide_type": ""
    },
    "tags": []
   },
   "source": [
    "# Residential Sector"
   ]
  },
  {
   "cell_type": "markdown",
   "id": "587d098f-503d-41ad-a6e8-6c5f698d1c18",
   "metadata": {
    "editable": true,
    "slideshow": {
     "slide_type": ""
    },
    "tags": []
   },
   "source": [
    "## to do:\n",
    "- population by income table/plot DMD_Proj\n",
    "- electrification rates DMD_proj"
   ]
  },
  {
   "cell_type": "markdown",
   "id": "5e0f49ce-055f-4a8e-8125-09829a8f2b17",
   "metadata": {
    "editable": true,
    "slideshow": {
     "slide_type": ""
    },
    "tags": []
   },
   "source": [
    "## Overview\n",
    "\n",
    "The Residential sector in SATIM is structured to capture changes in fuel and technology use and energy service demands that follow rising income levels. There are three income groups represented in SATIM:\n",
    "- **Low income**: Represents 45% of the population in 2017\n",
    "- **Middle income**: 31% of the population\n",
    "- **High income**: 24% of the population\n",
    "\n",
    "**Table 8.1: Average annual income per income group in the residential sector.**\n",
    "| Household Income Group | Average Annual Income (R)    |\n",
    "|------------------------|-----------------------|\n",
    "| Low Income             | 0 - 19,200            |\n",
    "| Middle Income          | 19,201 - 76,800       |\n",
    "| High Income            | 76,801 -              |\n",
    "\n",
    "\n",
    "\n"
   ]
  },
  {
   "cell_type": "code",
   "execution_count": 2,
   "id": "070526c3-01d5-48e0-9e58-cbfcea83dd2d",
   "metadata": {
    "editable": true,
    "slideshow": {
     "slide_type": ""
    },
    "tags": []
   },
   "outputs": [
    {
     "ename": "FileNotFoundError",
     "evalue": "[Errno 2] No such file or directory: 'Satim-test-book-1.1/docs/Excel workbooks/Scen_DMD_PRJ.xlsx'",
     "output_type": "error",
     "traceback": [
      "\u001b[1;31m---------------------------------------------------------------------------\u001b[0m",
      "\u001b[1;31mFileNotFoundError\u001b[0m                         Traceback (most recent call last)",
      "Cell \u001b[1;32mIn[2], line 9\u001b[0m\n\u001b[0;32m      6\u001b[0m sheet_name \u001b[38;5;241m=\u001b[39m \u001b[38;5;124m'\u001b[39m\u001b[38;5;124mRES\u001b[39m\u001b[38;5;124m'\u001b[39m  \u001b[38;5;66;03m# replace with the actual sheet name\u001b[39;00m\n\u001b[0;32m      8\u001b[0m \u001b[38;5;66;03m# Read the necessary data\u001b[39;00m\n\u001b[1;32m----> 9\u001b[0m df \u001b[38;5;241m=\u001b[39m \u001b[43mpd\u001b[49m\u001b[38;5;241;43m.\u001b[39;49m\u001b[43mread_excel\u001b[49m\u001b[43m(\u001b[49m\u001b[43mfile_path\u001b[49m\u001b[43m,\u001b[49m\u001b[43m \u001b[49m\u001b[43msheet_name\u001b[49m\u001b[38;5;241;43m=\u001b[39;49m\u001b[43msheet_name\u001b[49m\u001b[43m,\u001b[49m\u001b[43m \u001b[49m\u001b[43mheader\u001b[49m\u001b[38;5;241;43m=\u001b[39;49m\u001b[38;5;28;43;01mNone\u001b[39;49;00m\u001b[43m)\u001b[49m\n\u001b[0;32m     11\u001b[0m \u001b[38;5;66;03m# Extract years (row 21, columns E to K)\u001b[39;00m\n\u001b[0;32m     12\u001b[0m years \u001b[38;5;241m=\u001b[39m df\u001b[38;5;241m.\u001b[39miloc[\u001b[38;5;241m20\u001b[39m, \u001b[38;5;241m4\u001b[39m:\u001b[38;5;241m11\u001b[39m]\u001b[38;5;241m.\u001b[39mvalues\n",
      "File \u001b[1;32m~\\AppData\\Roaming\\Python\\Python311\\site-packages\\pandas\\io\\excel\\_base.py:504\u001b[0m, in \u001b[0;36mread_excel\u001b[1;34m(io, sheet_name, header, names, index_col, usecols, dtype, engine, converters, true_values, false_values, skiprows, nrows, na_values, keep_default_na, na_filter, verbose, parse_dates, date_parser, date_format, thousands, decimal, comment, skipfooter, storage_options, dtype_backend, engine_kwargs)\u001b[0m\n\u001b[0;32m    502\u001b[0m \u001b[38;5;28;01mif\u001b[39;00m \u001b[38;5;129;01mnot\u001b[39;00m \u001b[38;5;28misinstance\u001b[39m(io, ExcelFile):\n\u001b[0;32m    503\u001b[0m     should_close \u001b[38;5;241m=\u001b[39m \u001b[38;5;28;01mTrue\u001b[39;00m\n\u001b[1;32m--> 504\u001b[0m     io \u001b[38;5;241m=\u001b[39m \u001b[43mExcelFile\u001b[49m\u001b[43m(\u001b[49m\n\u001b[0;32m    505\u001b[0m \u001b[43m        \u001b[49m\u001b[43mio\u001b[49m\u001b[43m,\u001b[49m\n\u001b[0;32m    506\u001b[0m \u001b[43m        \u001b[49m\u001b[43mstorage_options\u001b[49m\u001b[38;5;241;43m=\u001b[39;49m\u001b[43mstorage_options\u001b[49m\u001b[43m,\u001b[49m\n\u001b[0;32m    507\u001b[0m \u001b[43m        \u001b[49m\u001b[43mengine\u001b[49m\u001b[38;5;241;43m=\u001b[39;49m\u001b[43mengine\u001b[49m\u001b[43m,\u001b[49m\n\u001b[0;32m    508\u001b[0m \u001b[43m        \u001b[49m\u001b[43mengine_kwargs\u001b[49m\u001b[38;5;241;43m=\u001b[39;49m\u001b[43mengine_kwargs\u001b[49m\u001b[43m,\u001b[49m\n\u001b[0;32m    509\u001b[0m \u001b[43m    \u001b[49m\u001b[43m)\u001b[49m\n\u001b[0;32m    510\u001b[0m \u001b[38;5;28;01melif\u001b[39;00m engine \u001b[38;5;129;01mand\u001b[39;00m engine \u001b[38;5;241m!=\u001b[39m io\u001b[38;5;241m.\u001b[39mengine:\n\u001b[0;32m    511\u001b[0m     \u001b[38;5;28;01mraise\u001b[39;00m \u001b[38;5;167;01mValueError\u001b[39;00m(\n\u001b[0;32m    512\u001b[0m         \u001b[38;5;124m\"\u001b[39m\u001b[38;5;124mEngine should not be specified when passing \u001b[39m\u001b[38;5;124m\"\u001b[39m\n\u001b[0;32m    513\u001b[0m         \u001b[38;5;124m\"\u001b[39m\u001b[38;5;124man ExcelFile - ExcelFile already has the engine set\u001b[39m\u001b[38;5;124m\"\u001b[39m\n\u001b[0;32m    514\u001b[0m     )\n",
      "File \u001b[1;32m~\\AppData\\Roaming\\Python\\Python311\\site-packages\\pandas\\io\\excel\\_base.py:1563\u001b[0m, in \u001b[0;36mExcelFile.__init__\u001b[1;34m(self, path_or_buffer, engine, storage_options, engine_kwargs)\u001b[0m\n\u001b[0;32m   1561\u001b[0m     ext \u001b[38;5;241m=\u001b[39m \u001b[38;5;124m\"\u001b[39m\u001b[38;5;124mxls\u001b[39m\u001b[38;5;124m\"\u001b[39m\n\u001b[0;32m   1562\u001b[0m \u001b[38;5;28;01melse\u001b[39;00m:\n\u001b[1;32m-> 1563\u001b[0m     ext \u001b[38;5;241m=\u001b[39m \u001b[43minspect_excel_format\u001b[49m\u001b[43m(\u001b[49m\n\u001b[0;32m   1564\u001b[0m \u001b[43m        \u001b[49m\u001b[43mcontent_or_path\u001b[49m\u001b[38;5;241;43m=\u001b[39;49m\u001b[43mpath_or_buffer\u001b[49m\u001b[43m,\u001b[49m\u001b[43m \u001b[49m\u001b[43mstorage_options\u001b[49m\u001b[38;5;241;43m=\u001b[39;49m\u001b[43mstorage_options\u001b[49m\n\u001b[0;32m   1565\u001b[0m \u001b[43m    \u001b[49m\u001b[43m)\u001b[49m\n\u001b[0;32m   1566\u001b[0m     \u001b[38;5;28;01mif\u001b[39;00m ext \u001b[38;5;129;01mis\u001b[39;00m \u001b[38;5;28;01mNone\u001b[39;00m:\n\u001b[0;32m   1567\u001b[0m         \u001b[38;5;28;01mraise\u001b[39;00m \u001b[38;5;167;01mValueError\u001b[39;00m(\n\u001b[0;32m   1568\u001b[0m             \u001b[38;5;124m\"\u001b[39m\u001b[38;5;124mExcel file format cannot be determined, you must specify \u001b[39m\u001b[38;5;124m\"\u001b[39m\n\u001b[0;32m   1569\u001b[0m             \u001b[38;5;124m\"\u001b[39m\u001b[38;5;124man engine manually.\u001b[39m\u001b[38;5;124m\"\u001b[39m\n\u001b[0;32m   1570\u001b[0m         )\n",
      "File \u001b[1;32m~\\AppData\\Roaming\\Python\\Python311\\site-packages\\pandas\\io\\excel\\_base.py:1419\u001b[0m, in \u001b[0;36minspect_excel_format\u001b[1;34m(content_or_path, storage_options)\u001b[0m\n\u001b[0;32m   1416\u001b[0m \u001b[38;5;28;01mif\u001b[39;00m \u001b[38;5;28misinstance\u001b[39m(content_or_path, \u001b[38;5;28mbytes\u001b[39m):\n\u001b[0;32m   1417\u001b[0m     content_or_path \u001b[38;5;241m=\u001b[39m BytesIO(content_or_path)\n\u001b[1;32m-> 1419\u001b[0m \u001b[38;5;28;01mwith\u001b[39;00m \u001b[43mget_handle\u001b[49m\u001b[43m(\u001b[49m\n\u001b[0;32m   1420\u001b[0m \u001b[43m    \u001b[49m\u001b[43mcontent_or_path\u001b[49m\u001b[43m,\u001b[49m\u001b[43m \u001b[49m\u001b[38;5;124;43m\"\u001b[39;49m\u001b[38;5;124;43mrb\u001b[39;49m\u001b[38;5;124;43m\"\u001b[39;49m\u001b[43m,\u001b[49m\u001b[43m \u001b[49m\u001b[43mstorage_options\u001b[49m\u001b[38;5;241;43m=\u001b[39;49m\u001b[43mstorage_options\u001b[49m\u001b[43m,\u001b[49m\u001b[43m \u001b[49m\u001b[43mis_text\u001b[49m\u001b[38;5;241;43m=\u001b[39;49m\u001b[38;5;28;43;01mFalse\u001b[39;49;00m\n\u001b[0;32m   1421\u001b[0m \u001b[43m\u001b[49m\u001b[43m)\u001b[49m \u001b[38;5;28;01mas\u001b[39;00m handle:\n\u001b[0;32m   1422\u001b[0m     stream \u001b[38;5;241m=\u001b[39m handle\u001b[38;5;241m.\u001b[39mhandle\n\u001b[0;32m   1423\u001b[0m     stream\u001b[38;5;241m.\u001b[39mseek(\u001b[38;5;241m0\u001b[39m)\n",
      "File \u001b[1;32m~\\AppData\\Roaming\\Python\\Python311\\site-packages\\pandas\\io\\common.py:872\u001b[0m, in \u001b[0;36mget_handle\u001b[1;34m(path_or_buf, mode, encoding, compression, memory_map, is_text, errors, storage_options)\u001b[0m\n\u001b[0;32m    863\u001b[0m         handle \u001b[38;5;241m=\u001b[39m \u001b[38;5;28mopen\u001b[39m(\n\u001b[0;32m    864\u001b[0m             handle,\n\u001b[0;32m    865\u001b[0m             ioargs\u001b[38;5;241m.\u001b[39mmode,\n\u001b[1;32m   (...)\u001b[0m\n\u001b[0;32m    868\u001b[0m             newline\u001b[38;5;241m=\u001b[39m\u001b[38;5;124m\"\u001b[39m\u001b[38;5;124m\"\u001b[39m,\n\u001b[0;32m    869\u001b[0m         )\n\u001b[0;32m    870\u001b[0m     \u001b[38;5;28;01melse\u001b[39;00m:\n\u001b[0;32m    871\u001b[0m         \u001b[38;5;66;03m# Binary mode\u001b[39;00m\n\u001b[1;32m--> 872\u001b[0m         handle \u001b[38;5;241m=\u001b[39m \u001b[38;5;28;43mopen\u001b[39;49m\u001b[43m(\u001b[49m\u001b[43mhandle\u001b[49m\u001b[43m,\u001b[49m\u001b[43m \u001b[49m\u001b[43mioargs\u001b[49m\u001b[38;5;241;43m.\u001b[39;49m\u001b[43mmode\u001b[49m\u001b[43m)\u001b[49m\n\u001b[0;32m    873\u001b[0m     handles\u001b[38;5;241m.\u001b[39mappend(handle)\n\u001b[0;32m    875\u001b[0m \u001b[38;5;66;03m# Convert BytesIO or file objects passed with an encoding\u001b[39;00m\n",
      "\u001b[1;31mFileNotFoundError\u001b[0m: [Errno 2] No such file or directory: 'Satim-test-book-1.1/docs/Excel workbooks/Scen_DMD_PRJ.xlsx'"
     ]
    }
   ],
   "source": [
    "import pandas as pd\n",
    "import matplotlib.pyplot as plt\n",
    "\n",
    "# Load the Excel file\n",
    "file_path = 'Satim-test-book-1.1/docs/Excel workbooks/Scen_DMD_PRJ.xlsx'\n",
    "sheet_name = 'RES'  # replace with the actual sheet name\n",
    "\n",
    "# Read the necessary data\n",
    "df = pd.read_excel(file_path, sheet_name=sheet_name, header=None)\n",
    "\n",
    "# Extract years (row 21, columns E to K)\n",
    "years = df.iloc[20, 4:11].values\n",
    "\n",
    "# Extract income groups (rows 22-24, column C)\n",
    "income_groups = df.iloc[21:24, 2].values\n",
    "\n",
    "# Extract corresponding population per income group for each year (rows 22-24, columns E to K)\n",
    "population_data = df.iloc[21:24, 4:11].values\n",
    "\n",
    "# Create a DataFrame for plotting\n",
    "data = pd.DataFrame(population_data.T, columns=income_groups, index=years)\n",
    "\n",
    "# Plot the area plot\n",
    "data.plot(kind='area', stacked=True, figsize=(10, 6))\n",
    "plt.title('Household Income Group - Population')\n",
    "plt.xlabel('Year')\n",
    "plt.ylabel('Population')\n",
    "plt.legend(title='Income Group')\n",
    "plt.grid(True)\n",
    "plt.show()\n"
   ]
  },
  {
   "cell_type": "code",
   "execution_count": null,
   "id": "cdce13d2-04e5-45ec-a5f0-d8cb7a4078d9",
   "metadata": {},
   "outputs": [],
   "source": [
    "import pandas as pd\n",
    "import matplotlib.pyplot as plt\n",
    "import requests\n",
    "from io import BytesIO\n",
    "\n",
    "# URL of the Excel file in the GitHub repository\n",
    "file_url = 'https://github.com/your-username/your-repo-name/raw/main/Satim-test-book-1.1/docs/Excel%20workbooks/Scen_DMD_PRJ.xlsx'\n",
    "\n",
    "# Download the file\n",
    "response = requests.get(file_url)\n",
    "response.raise_for_status()  # Ensure the request was successful\n",
    "\n",
    "# Read the Excel file into a pandas DataFrame\n",
    "with BytesIO(response.content) as file:\n",
    "    df = pd.read_excel(file, sheet_name='Sheet1', header=None)\n",
    "\n",
    "# Extract years (row 21, columns E to K which corresponds to index 20, columns 4 to 10 in 0-indexed pandas)\n",
    "years = df.iloc[20, 4:11].values\n",
    "\n",
    "# Extract income groups (rows 22-24, column C which corresponds to index 21-23, column 2 in 0-indexed pandas)\n",
    "income_groups = df.iloc[21:23, 2].values\n",
    "\n",
    "# Extract corresponding population per income group for each year (rows 22-24, columns E to K which corresponds to index 21-23, columns 4 to 10 in 0-indexed pandas)\n",
    "population_data = df.iloc[21:24, 4:11].values\n",
    "\n",
    "# Create a DataFrame for plotting\n",
    "data = pd.DataFrame(population_data.T, columns=income_groups, index=years)\n",
    "\n",
    "# Plot the area plot\n",
    "data.plot(kind='area', stacked=True, figsize=(10, 6))\n",
    "plt.title('Household Income Group - Population')\n",
    "plt.xlabel('Year')\n",
    "plt.ylabel('Population')\n",
    "plt.legend(title='Income Group')\n",
    "plt.grid(True)\n",
    "plt.show()\n"
   ]
  },
  {
   "cell_type": "markdown",
   "id": "6a40a654-e7e0-46df-8f32-b140e1dcc075",
   "metadata": {
    "editable": true,
    "slideshow": {
     "slide_type": ""
    },
    "tags": []
   },
   "source": [
    "## Energy Service Demands\n",
    "\n",
    "Each income group is further disaggregated into a demand for energy services capturing energy consumption for lighting, cooking, space heating, refrigeration, and a combination of other (mostly electrical) appliances, as shown in Table 8.2 (which also shows the drivers of household growth, energy service demands, fuel use, and appliance ownership captured in the model). Each service demand is also characterized by a particular seasonal/diurnal profile.\n",
    "\n",
    "*(include profiles)*"
   ]
  },
  {
   "cell_type": "markdown",
   "id": "cb216f97-d862-4296-a754-963acd4260bd",
   "metadata": {
    "editable": true,
    "slideshow": {
     "slide_type": ""
    },
    "tags": []
   },
   "source": [
    "## Data Sources and Assumptions\n",
    "\n",
    "The classification of households into income groups and the primary fuel used by households for cooking, space heating, and water heating draws primarily on the 2011 Census (StatsSA, 2011), while electrification assumptions are according to the National Development Plan (National Planning Commission, 2012). Households in all income groups use a variety of fuels to meet their energy service needs and, particularly in middle- and low-income households, typically use more than one fuel type to meet energy services (e.g., both biomass and electricity for cooking) – a principle known as fuel stacking.\n",
    "\n",
    "Lower income groups have more prominent use of liquid (paraffin) and solid fuels (coal and wood) and lower demand for energy services supplied by electricity due to lower appliance ownership levels. The fuel stacking and lower energy service demands of the low- and middle-income households in the model reflect the difficulties that these households face in terms of both access to and the affordability of using electricity to supply energy services. The energy sources, and quantity, supplying each end use in 2017 is shown in Figure 8.1. This is illustrated in further detail in Appendix A and Figures A1 to A3.\n",
    "\n",
    "## Modelling Structure\n",
    "\n",
    "**Table 8.2: Modelling structure and disaggregation for the residential sector in SATIM**\n",
    "\n",
    "| Parameter | Disaggregation level | Drivers |\n",
    "| -------------------- | -------------------- | ------- |\n",
    "| Households | Low, Middle, and High income groups | Population, household size, GDP |\n",
    "| Energy Service Demands | Lighting, cooking, water heating, space heating and cooling, refrigeration, other | Household income, electrification, policies and regulations such as building standards, behavior change |\n",
    "| Fuels and appliances |  Wood, coal, paraffin, gas, electricity (televisions, washing machines, dishwashers, etc.) | Household income, electrification, policies and regulations such as fuel subsidies, appliance standards |\n",
    "\n"
   ]
  },
  {
   "cell_type": "markdown",
   "id": "b0db4615-596d-4dea-ac20-68d59cce5296",
   "metadata": {
    "editable": true,
    "slideshow": {
     "slide_type": ""
    },
    "tags": []
   },
   "source": [
    "*(insert Figure 8.x)*\n",
    "\n",
    "**Figure 8.x: Final energy demand for the residential sector by household income group, energy end-use, and fuel for the SATIM base year of 2017.**\n",
    "\n",
    "## Technologies and Efficiencies\n",
    "\n",
    "Within SATIM, household energy service needs, such as lighting and cooking, are met by technologies such as LEDs or CFLs (subject to 2024 regulations on minimum luminous efficacy) and electric or paraffin stoves. Technologies, and their assumed average efficiencies, are specific to the type of technology and fuel being used. For example, an electric geyser can be used to supply hot water at 75% efficiency, whereas wood used for water heating in low-income households (open fire) has an efficiency of 11%. This allows us to capture the average energy efficiency of meeting energy service needs using different fuels and technologies as well as the impact that a shift in fuel or technology use will have on the demand for energy to supply energy services.\n",
    "\n",
    "Technology efficiencies can be specific to income groups, e.g., lower-income households are more likely to have old and less efficient fridges. Efficiency levels also capture shifts between electrical appliances, for example, the increased penetration of LEDs for lighting, or the uptake of combined-heat-and-power (CHP) and solar water heaters (SWH) for water heating. The upward mobility of households from lower to middle- and higher-income groups, driven by growth in GDP, will cause an increase in electricity use in favor of other alternative fuels over time, as households increase their appliance ownership as their income grows. Increases in electricity use are however partially tempered by energy efficiency improvements in the sector, based on assumptions about the efficacy of the Standards and Labelling programme and Minimum Energy Performance Standards (MEPS) for appliances (DMRE, 2022).\n",
    "\n",
    "## Household Mobility\n",
    "\n",
    "Upward mobility of households is captured in the model by altering the share of households in each income group over time. The share of households in each income group is taken from SAGE. However, under current projections, not all households would be able to migrate out of the lower income group by 2050. Many of these households are currently in a state of energy poverty and may struggle to move away from the use of solid fuels without support.\n",
    "\n",
    "## Residential Demand Illustrated\n",
    "\n",
    "Figures 8.3, 8.4, and 8.5 show SANKEY diagrams of residential consumption of fuels to provide energy services in the three income groups in 2023. The SANKEYs give an indicative indication of the energy used by households in each income group, the energy used to supply energy services, as well as the efficiency at which energy services are met in each income group. For example, it shows that low-income households use biomass primarily for cooking and that the efficiency of cooking is low. In addition to biomass, low-income households are also using electricity, coal, and a small amount of paraffin to cook. Energy service demands are represented in terms of useful energy and are therefore not directly comparable across energy services but are comparable across income groups."
   ]
  },
  {
   "cell_type": "code",
   "execution_count": null,
   "id": "c1774911-b047-4f1f-b504-5da544219991",
   "metadata": {
    "editable": true,
    "slideshow": {
     "slide_type": ""
    },
    "tags": []
   },
   "outputs": [],
   "source": []
  },
  {
   "cell_type": "code",
   "execution_count": null,
   "id": "95da63ac-127f-4dda-905b-f8d3718f9645",
   "metadata": {
    "editable": true,
    "slideshow": {
     "slide_type": ""
    },
    "tags": []
   },
   "outputs": [],
   "source": []
  }
 ],
 "metadata": {
  "kernelspec": {
   "display_name": "Python 3 (ipykernel)",
   "language": "python",
   "name": "python3"
  },
  "language_info": {
   "codemirror_mode": {
    "name": "ipython",
    "version": 3
   },
   "file_extension": ".py",
   "mimetype": "text/x-python",
   "name": "python",
   "nbconvert_exporter": "python",
   "pygments_lexer": "ipython3",
   "version": "3.11.5"
  }
 },
 "nbformat": 4,
 "nbformat_minor": 5
}

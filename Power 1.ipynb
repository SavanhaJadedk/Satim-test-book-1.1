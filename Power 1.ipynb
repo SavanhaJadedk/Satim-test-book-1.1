{
 "cells": [
  {
   "cell_type": "markdown",
   "id": "dc24a8af-37eb-43f0-bee5-0da08cd20670",
   "metadata": {},
   "source": [
    "#here is my text\n"
   ]
  }
 ],
 "metadata": {
  "kernelspec": {
   "display_name": "Python 3 (ipykernel)",
   "language": "python",
   "name": "python3"
  },
  "language_info": {
   "codemirror_mode": {
    "name": "ipython",
    "version": 3
   },
   "file_extension": ".py",
   "mimetype": "text/x-python",
   "name": "python",
   "nbconvert_exporter": "python",
   "pygments_lexer": "ipython3",
   "version": "3.11.5"
  }
 },
 "nbformat": 4,
 "nbformat_minor": 5
}
